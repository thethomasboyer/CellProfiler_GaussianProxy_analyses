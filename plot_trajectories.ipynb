{
 "cells": [
  {
   "cell_type": "code",
   "execution_count": 13,
   "metadata": {},
   "outputs": [],
   "source": [
    "import pandas as pd\n",
    "import matplotlib.pyplot as plt\n",
    "import seaborn as sns"
   ]
  },
  {
   "cell_type": "code",
   "execution_count": 14,
   "metadata": {},
   "outputs": [],
   "source": [
    "plt.style.use(\"ggplot\")\n",
    "sns.set_context(\"paper\")"
   ]
  },
  {
   "cell_type": "code",
   "execution_count": 15,
   "metadata": {},
   "outputs": [],
   "source": [
    "df = pd.read_csv(\"TMP_TEST_analyses/cell_nucleus.csv\")"
   ]
  },
  {
   "cell_type": "code",
   "execution_count": null,
   "metadata": {},
   "outputs": [],
   "source": [
    "df"
   ]
  },
  {
   "cell_type": "code",
   "execution_count": null,
   "metadata": {},
   "outputs": [],
   "source": [
    "df[\"ObjectNumber\"].unique()"
   ]
  },
  {
   "cell_type": "code",
   "execution_count": null,
   "metadata": {},
   "outputs": [],
   "source": [
    "plt.figure(dpi=200, figsize=(10, 5))\n",
    "\n",
    "for object_number in range(1, 15):\n",
    "    ys = []\n",
    "    for time in df[\"ImageNumber\"].unique():\n",
    "        try:\n",
    "            y = df.query(f\"ImageNumber == {time} and ObjectNumber == {object_number}\")[\n",
    "                \"AreaShape_Eccentricity\"\n",
    "            ].values[0]\n",
    "        except IndexError:\n",
    "            continue\n",
    "        ys.append(y)\n",
    "    plt.plot(ys, label=f\"Object {object_number}\")\n",
    "plt.title(\"AreaShape_Eccentricity over time\")\n",
    "plt.ylabel(\"AreaShape_Eccentricity\")\n",
    "plt.xlabel(\"Time\")\n",
    "plt.legend(loc=\"upper right\")\n",
    "plt.show()"
   ]
  }
 ],
 "metadata": {
  "kernelspec": {
   "display_name": ".venv",
   "language": "python",
   "name": "python3"
  },
  "language_info": {
   "codemirror_mode": {
    "name": "ipython",
    "version": 3
   },
   "file_extension": ".py",
   "mimetype": "text/x-python",
   "name": "python",
   "nbconvert_exporter": "python",
   "pygments_lexer": "ipython3",
   "version": "3.9.21"
  }
 },
 "nbformat": 4,
 "nbformat_minor": 2
}
