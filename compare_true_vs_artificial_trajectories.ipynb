{
 "cells": [
  {
   "cell_type": "markdown",
   "metadata": {},
   "source": [
    "# Compare true vs artificial trajectories\n",
    "\n",
    "This notebook compares the fetaures from the true and artificial trajectories, performing a cell-to-cell matching based on their initial position.\n",
    "\n",
    "---"
   ]
  },
  {
   "cell_type": "markdown",
   "metadata": {},
   "source": [
    "# Imports"
   ]
  },
  {
   "cell_type": "code",
   "execution_count": null,
   "metadata": {},
   "outputs": [],
   "source": [
    "from pathlib import Path\n",
    "\n",
    "import matplotlib.pyplot as plt\n",
    "import numpy as np\n",
    "import pandas as pd\n",
    "import seaborn as sns\n",
    "from scipy.spatial.distance import cdist"
   ]
  },
  {
   "cell_type": "code",
   "execution_count": null,
   "metadata": {},
   "outputs": [],
   "source": [
    "plt.style.use(\"ggplot\")\n",
    "sns.set_context(\"paper\")"
   ]
  },
  {
   "cell_type": "markdown",
   "metadata": {},
   "source": [
    "# True trajectrories"
   ]
  },
  {
   "cell_type": "code",
   "execution_count": null,
   "metadata": {},
   "outputs": [],
   "source": [
    "true_features = pd.read_csv(\n",
    "    Path(\"analyses\", \"biotine_full\", \"features_through_time_of_full_lifetime_simple_objects.csv\")\n",
    ")\n",
    "true_features"
   ]
  },
  {
   "cell_type": "markdown",
   "metadata": {},
   "source": [
    "# Generated trajectories"
   ]
  },
  {
   "cell_type": "code",
   "execution_count": null,
   "metadata": {},
   "outputs": [],
   "source": [
    "experiment_path = Path(\n",
    "    \"/\",\n",
    "    \"projects\",\n",
    "    \"static2dynamic\",\n",
    "    \"Thomas\",\n",
    "    \"experiments\",\n",
    "    \"GaussianProxy\",\n",
    "    \"biotine_all_paired_new_jz_MANUAL_WEIGHTS_DOWNLOAD_FROM_JZ_11-02-2025_14h31\",\n",
    "    \"inferences\",\n",
    "    \"\",\n",
    "    \"trajectories_-1_1 raw\",\n",
    "    \"cp_analysis\",\n",
    ")"
   ]
  },
  {
   "cell_type": "code",
   "execution_count": null,
   "metadata": {},
   "outputs": [],
   "source": [
    "gen_features = pd.read_csv(experiment_path / \"whole_cell.csv\")\n",
    "gen_features"
   ]
  },
  {
   "cell_type": "markdown",
   "metadata": {},
   "source": [
    "# Filter true traj on selected plate only"
   ]
  },
  {
   "cell_type": "code",
   "execution_count": null,
   "metadata": {},
   "outputs": [],
   "source": [
    "plate_name = \"M_13_fld_3\""
   ]
  },
  {
   "cell_type": "code",
   "execution_count": null,
   "metadata": {},
   "outputs": [],
   "source": [
    "this_plate_true_features = true_features.query(\"global_object_id.str.contains(@plate_name)\")\n",
    "this_plate_true_features"
   ]
  },
  {
   "cell_type": "code",
   "execution_count": null,
   "metadata": {},
   "outputs": [],
   "source": [
    "print(f\"Found {this_plate_true_features['global_object_id'].nunique()} objects in the true data\")"
   ]
  },
  {
   "cell_type": "markdown",
   "metadata": {},
   "source": [
    "# Match cells"
   ]
  },
  {
   "cell_type": "code",
   "execution_count": null,
   "metadata": {},
   "outputs": [],
   "source": [
    "initial_true_positions = {}\n",
    "time_1_mask = this_plate_true_features[\"time\"] == 1\n",
    "this_plate_true_features_time_1 = this_plate_true_features[time_1_mask]\n",
    "assert (\n",
    "    len(this_plate_true_features_time_1) == this_plate_true_features[\"global_object_id\"].nunique()\n",
    ")\n",
    "\n",
    "for obj_id in this_plate_true_features[\"global_object_id\"].unique():\n",
    "    this_obj_mask = this_plate_true_features_time_1[\"global_object_id\"] == obj_id\n",
    "    this_obj_init_pos = this_plate_true_features_time_1.loc[\n",
    "        this_obj_mask, (\"AreaShape_Center_X\", \"AreaShape_Center_Y\")\n",
    "    ].values[0]\n",
    "    assert len(this_obj_init_pos) == 2, (\n",
    "        \"Found more than one initial position for object {obj_id}: {this_obj_init_pos}\"\n",
    "    )\n",
    "    initial_true_positions[obj_id] = this_obj_init_pos\n",
    "\n",
    "initial_true_positions"
   ]
  },
  {
   "cell_type": "markdown",
   "metadata": {},
   "source": [
    "## Process artificial cells"
   ]
  },
  {
   "cell_type": "code",
   "execution_count": null,
   "metadata": {},
   "outputs": [],
   "source": [
    "# check time data concistency\n",
    "gen_features[[\"Metadata_time\", \"FileName_images\"]].value_counts(dropna=False)"
   ]
  },
  {
   "cell_type": "code",
   "execution_count": null,
   "metadata": {},
   "outputs": [],
   "source": [
    "gen_features_mask_time_1 = gen_features[\"Metadata_time\"] == 1\n",
    "gen_features_time_1 = gen_features[gen_features_mask_time_1]\n",
    "gen_features_time_1"
   ]
  },
  {
   "cell_type": "markdown",
   "metadata": {},
   "source": [
    "## Get the L2 distance matrix between all true center and all generated centers"
   ]
  },
  {
   "cell_type": "code",
   "execution_count": null,
   "metadata": {},
   "outputs": [],
   "source": [
    "initial_true_positions_array = np.array(list(initial_true_positions.values()))\n",
    "\n",
    "initial_gen_positions_array = gen_features_time_1[\n",
    "    [\"AreaShape_Center_X\", \"AreaShape_Center_Y\"]\n",
    "].values\n",
    "\n",
    "# Compute the L2 distance matrix\n",
    "distance_matrix = cdist(\n",
    "    initial_true_positions_array, initial_gen_positions_array, metric=\"euclidean\"\n",
    ")\n",
    "\n",
    "\n",
    "plt.figure(figsize=(10, 10))\n",
    "plt.imshow(distance_matrix, cmap=\"viridis\", origin=\"lower\")\n",
    "plt.colorbar()\n",
    "plt.ylabel(\"True objects\")\n",
    "plt.xlabel(\"Generated objects\")\n",
    "plt.title(\"L2 Distance between all True and Generated Cells\")\n",
    "plt.tight_layout()\n",
    "plt.grid()\n",
    "plt.show()"
   ]
  },
  {
   "cell_type": "code",
   "execution_count": null,
   "metadata": {},
   "outputs": [],
   "source": [
    "plt.figure(figsize=(10, 6))\n",
    "plt.plot(distance_matrix.min(axis=1), \"x\", label=\"Minimum distance\")\n",
    "\n",
    "closest_objects = np.partition(distance_matrix, [0, 1, 2], axis=1)\n",
    "assert np.all(distance_matrix.min(axis=1) == closest_objects[:, 0])\n",
    "\n",
    "plt.plot(closest_objects[:, 1], \"x\", color=\"blue\", label=\"Second closest distance\")\n",
    "plt.plot(closest_objects[:, 2], \"x\", color=\"green\", label=\"Third closest distance\")\n",
    "\n",
    "plt.xlabel(\"True objects\")\n",
    "plt.ylabel(\"Minimum distance to all generated objects\")\n",
    "plt.title(\"Minimum distance to all generated objects for each true object\")\n",
    "plt.legend()\n",
    "plt.tight_layout()\n",
    "plt.show()"
   ]
  },
  {
   "cell_type": "markdown",
   "metadata": {},
   "source": [
    "## Find closest generated cell to each true cell within threshold"
   ]
  },
  {
   "cell_type": "code",
   "execution_count": null,
   "metadata": {},
   "outputs": [],
   "source": [
    "threshold = 50"
   ]
  },
  {
   "cell_type": "code",
   "execution_count": null,
   "metadata": {},
   "outputs": [],
   "source": [
    "plt.figure(figsize=(10, 6))\n",
    "plt.plot(distance_matrix.min(axis=1), \"x\", label=\"Minimum distance\")\n",
    "\n",
    "closest_objects = np.partition(distance_matrix, [0, 1, 2], axis=1)\n",
    "assert np.all(distance_matrix.min(axis=1) == closest_objects[:, 0])\n",
    "\n",
    "plt.plot(closest_objects[:, 1], \"x\", color=\"blue\", label=\"Second closest distance\")\n",
    "plt.plot(closest_objects[:, 2], \"x\", color=\"green\", label=\"Third closest distance\")\n",
    "\n",
    "plt.xlabel(\"True objects\")\n",
    "plt.ylabel(\"Minimum distance to all generated objects\")\n",
    "plt.title(\"Minimum distance to all generated objects for each true object + pairing threshold\")\n",
    "plt.legend()\n",
    "plt.ylim(0, threshold * 2)\n",
    "plt.axhline(y=threshold, color=\"k\", linestyle=\"--\")\n",
    "plt.tight_layout()\n",
    "plt.show()"
   ]
  },
  {
   "cell_type": "code",
   "execution_count": null,
   "metadata": {},
   "outputs": [],
   "source": [
    "true_cells_to_gen_cells_mapping = {}\n",
    "\n",
    "for obj_index, obj_id in enumerate(this_plate_true_features[\"global_object_id\"].unique()):\n",
    "    distances_to_this_obj = distance_matrix[obj_index]\n",
    "    indices_below_threshold = np.nonzero(distances_to_this_obj < threshold)[0]\n",
    "\n",
    "    if len(indices_below_threshold) > 0:\n",
    "        # Find the index with minimum distance among those below threshold\n",
    "        min_distance_idx = indices_below_threshold[\n",
    "            np.argmin(distances_to_this_obj[indices_below_threshold])\n",
    "        ]\n",
    "\n",
    "        # Get the corresponding generated cell ID\n",
    "        closest_gen_id = gen_features_time_1.iloc[min_distance_idx][\"TrackObjects_Label_10\"]\n",
    "\n",
    "        true_cells_to_gen_cells_mapping[obj_id] = {\n",
    "            \"closest_gen_id\": int(closest_gen_id),\n",
    "            \"min_distance\": float(distances_to_this_obj[min_distance_idx]),\n",
    "            \"base_true_position\": tuple(initial_true_positions[obj_id]),\n",
    "        }\n",
    "    else:\n",
    "        # No matches below threshold\n",
    "        true_cells_to_gen_cells_mapping[obj_id] = {\n",
    "            \"closest_gen_id\": None,\n",
    "            \"min_distance\": None,\n",
    "            \"base_true_position\": tuple(initial_true_positions[obj_id]),\n",
    "        }\n",
    "\n",
    "true_cells_to_gen_cells_mapping"
   ]
  },
  {
   "cell_type": "markdown",
   "metadata": {},
   "source": [
    "# Show feature and L2 distance for one cell"
   ]
  },
  {
   "cell_type": "markdown",
   "metadata": {},
   "source": [
    "## Find pairs with full lifetime"
   ]
  },
  {
   "cell_type": "code",
   "execution_count": null,
   "metadata": {},
   "outputs": [],
   "source": [
    "kept_true_ids = []\n",
    "\n",
    "for true_object_id in true_cells_to_gen_cells_mapping:\n",
    "    this_obj_true_features = this_plate_true_features.query(\"global_object_id == @true_object_id\")\n",
    "    if len(this_obj_true_features) != 19:\n",
    "        print(\n",
    "            f\"Skipping object {true_object_id} with {len(this_obj_true_features)} != 19 timepoints\"\n",
    "        )\n",
    "        continue\n",
    "\n",
    "    matching_gen_id = true_cells_to_gen_cells_mapping[true_object_id][\"closest_gen_id\"]\n",
    "    if matching_gen_id is None:\n",
    "        # print(f\"Skipping object {true_object_id} with no matching generated cell\")\n",
    "        continue\n",
    "\n",
    "    matching_obj_gen_features = gen_features.query(\"TrackObjects_Label_10 == @matching_gen_id\")\n",
    "    if len(matching_obj_gen_features) != 50:\n",
    "        print(\n",
    "            f\"Skipping object {true_object_id} with matching generated cell having {len(matching_obj_gen_features)} != 50 timepoints\"\n",
    "        )\n",
    "        continue\n",
    "\n",
    "    kept_true_ids.append(true_object_id)\n",
    "\n",
    "print(f\"\\nKept {len(kept_true_ids)} true IDs: {kept_true_ids}\")"
   ]
  },
  {
   "cell_type": "markdown",
   "metadata": {},
   "source": [
    "## Select feature"
   ]
  },
  {
   "cell_type": "code",
   "execution_count": null,
   "metadata": {},
   "outputs": [],
   "source": [
    "selected_feature = \"AreaShape_Area\""
   ]
  },
  {
   "cell_type": "markdown",
   "metadata": {},
   "source": [
    "## Select ID"
   ]
  },
  {
   "cell_type": "code",
   "execution_count": null,
   "metadata": {},
   "outputs": [],
   "source": [
    "true_object_id = kept_true_ids[0]\n",
    "true_object_id"
   ]
  },
  {
   "cell_type": "markdown",
   "metadata": {},
   "source": [
    "## True features"
   ]
  },
  {
   "cell_type": "code",
   "execution_count": null,
   "metadata": {},
   "outputs": [],
   "source": [
    "this_obj_true_features = this_plate_true_features.query(\"global_object_id == @true_object_id\")\n",
    "this_obj_true_features"
   ]
  },
  {
   "cell_type": "markdown",
   "metadata": {},
   "source": [
    "## Generated features"
   ]
  },
  {
   "cell_type": "code",
   "execution_count": null,
   "metadata": {},
   "outputs": [],
   "source": [
    "matching_gen_id = true_cells_to_gen_cells_mapping[true_object_id][\"closest_gen_id\"]\n",
    "matching_gen_id"
   ]
  },
  {
   "cell_type": "code",
   "execution_count": null,
   "metadata": {},
   "outputs": [],
   "source": [
    "matching_obj_gen_features = gen_features.query(\"TrackObjects_Label_10 == @matching_gen_id\")\n",
    "matching_obj_gen_features"
   ]
  },
  {
   "cell_type": "markdown",
   "metadata": {},
   "source": [
    "## Plot feature and compute L2 distance of timeseries"
   ]
  },
  {
   "cell_type": "code",
   "execution_count": null,
   "metadata": {},
   "outputs": [],
   "source": [
    "def compute_trajectory_l2_distance(true_traj: np.ndarray, gen_traj: np.ndarray):\n",
    "    \"\"\"\n",
    "    Compute L2 distance between trajectories with different numbers of points\n",
    "\n",
    "    Args:\n",
    "        true_traj: numpy array of shape (n_true_points,)\n",
    "        gen_traj: numpy array of shape (n_gen_points,)\n",
    "\n",
    "    Returns:\n",
    "        generated_traj_interp: numpy array of shape (n_true_points,)\n",
    "        l2_dist: L2 distance between the trajectories\n",
    "    \"\"\"\n",
    "    # Create synthetic time values (assuming uniform sampling)\n",
    "    normalized_true_times = np.linspace(0, 1, len(true_traj))\n",
    "    normalized_gen_times = np.linspace(0, 1, len(gen_traj))\n",
    "    \n",
    "    # Interpolate the generated trajectory at the true times\n",
    "    gen_traj_interp = np.interp(normalized_true_times, normalized_gen_times, gen_traj)\n",
    "    \n",
    "    return gen_traj_interp, np.linalg.norm(true_traj - gen_traj_interp)"
   ]
  },
  {
   "cell_type": "code",
   "execution_count": null,
   "metadata": {},
   "outputs": [],
   "source": [
    "gen_traj_interp, l2_dist = compute_trajectory_l2_distance(\n",
    "    this_obj_true_features[selected_feature].values,\n",
    "    matching_obj_gen_features[selected_feature].values,\n",
    ")"
   ]
  },
  {
   "cell_type": "code",
   "execution_count": null,
   "metadata": {},
   "outputs": [],
   "source": [
    "plt.figure(figsize=(12, 6))\n",
    "# true\n",
    "plt.plot(\n",
    "    this_obj_true_features[\"time\"], this_obj_true_features[selected_feature], \"x-\", label=\"True\"\n",
    ")\n",
    "# generated\n",
    "normalized_gen_times = (\n",
    "    matching_obj_gen_features[\"Metadata_time\"]\n",
    "    / matching_obj_gen_features[\"Metadata_time\"].max()\n",
    "    * 18\n",
    "    + 1\n",
    ")\n",
    "plt.plot(\n",
    "    normalized_gen_times,\n",
    "    matching_obj_gen_features[selected_feature],\n",
    "    \"x-\",\n",
    "    label=\"Generated\",\n",
    ")\n",
    "# interpolated generated\n",
    "plt.plot(\n",
    "    this_obj_true_features[\"time\"],\n",
    "    gen_traj_interp,\n",
    "    \"x-\",\n",
    "    label=\"Interpolated Generated\",\n",
    ")\n",
    "\n",
    "plt.title(f\"{selected_feature} for true object {true_object_id}\")\n",
    "plt.xlabel(\"Time\")\n",
    "plt.ylabel(selected_feature)\n",
    "plt.xticks(np.arange(1, 20, 1))\n",
    "plt.legend()\n",
    "plt.show()"
   ]
  },
  {
   "cell_type": "code",
   "execution_count": null,
   "metadata": {},
   "outputs": [],
   "source": [
    "l2_dist"
   ]
  },
  {
   "cell_type": "markdown",
   "metadata": {},
   "source": [
    "# Show L2 on all cells"
   ]
  },
  {
   "cell_type": "code",
   "execution_count": null,
   "metadata": {},
   "outputs": [],
   "source": [
    "selected_feature"
   ]
  },
  {
   "cell_type": "code",
   "execution_count": null,
   "metadata": {},
   "outputs": [],
   "source": [
    "l2_dists = []\n",
    "\n",
    "for true_object_id in kept_true_ids:\n",
    "    # true features\n",
    "    this_obj_true_features = this_plate_true_features.query(\"global_object_id == @true_object_id\")\n",
    "    # generated features\n",
    "    matching_gen_id = true_cells_to_gen_cells_mapping[true_object_id][\"closest_gen_id\"]\n",
    "    matching_obj_gen_features = gen_features.query(\"TrackObjects_Label_10 == @matching_gen_id\")\n",
    "    # compute L2 distance\n",
    "    _, l2_dist = compute_trajectory_l2_distance(\n",
    "        this_obj_true_features[selected_feature].values,\n",
    "        matching_obj_gen_features[selected_feature].values,\n",
    "    )\n",
    "    l2_dists.append(l2_dist)\n",
    "\n",
    "plt.figure(figsize=(4, 6))\n",
    "ax = sns.boxplot(l2_dists, showfliers=False)\n",
    "ax = sns.swarmplot(l2_dists, color=\".25\")\n",
    "plt.xlabel(plate_name)\n",
    "plt.ylabel(selected_feature)\n",
    "plt.show()"
   ]
  }
 ],
 "metadata": {
  "kernelspec": {
   "display_name": ".venv",
   "language": "python",
   "name": "python3"
  },
  "language_info": {
   "codemirror_mode": {
    "name": "ipython",
    "version": 3
   },
   "file_extension": ".py",
   "mimetype": "text/x-python",
   "name": "python",
   "nbconvert_exporter": "python",
   "pygments_lexer": "ipython3",
   "version": "3.8.10"
  }
 },
 "nbformat": 4,
 "nbformat_minor": 2
}
