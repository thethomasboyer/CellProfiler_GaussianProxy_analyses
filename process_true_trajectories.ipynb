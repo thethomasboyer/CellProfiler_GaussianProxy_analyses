{
 "cells": [
  {
   "cell_type": "markdown",
   "metadata": {},
   "source": [
    "# Process true trajectories\n",
    "\n",
    "Aggregate, process, plot some and save all true trajectories' features. \n",
    "\n",
    "---"
   ]
  },
  {
   "cell_type": "markdown",
   "metadata": {},
   "source": [
    "# Imports"
   ]
  },
  {
   "cell_type": "code",
   "execution_count": null,
   "metadata": {},
   "outputs": [],
   "source": [
    "from concurrent.futures import ProcessPoolExecutor, ThreadPoolExecutor, as_completed\n",
    "from pathlib import Path\n",
    "\n",
    "import matplotlib.pyplot as plt\n",
    "import numpy as np\n",
    "import pandas as pd\n",
    "import seaborn as sns\n",
    "from tqdm.notebook import tqdm"
   ]
  },
  {
   "cell_type": "code",
   "execution_count": null,
   "metadata": {},
   "outputs": [],
   "source": [
    "plt.style.use(\"ggplot\")\n",
    "sns.set_context(\"paper\")"
   ]
  },
  {
   "cell_type": "markdown",
   "metadata": {},
   "source": [
    "# Concat individual video data"
   ]
  },
  {
   "cell_type": "code",
   "execution_count": null,
   "metadata": {},
   "outputs": [],
   "source": [
    "data_path = Path(\"analyses\", \"biotine_full\")"
   ]
  },
  {
   "cell_type": "code",
   "execution_count": null,
   "metadata": {},
   "outputs": [],
   "source": [
    "all_csv_files = [\n",
    "    f\n",
    "    for f in data_path.rglob(\"*.csv\")\n",
    "    if f.stem != \"Experiment\" and not f.stem.startswith(\"features_through_time\")\n",
    "]\n",
    "print(f\"Found {len(all_csv_files)} csv files\")"
   ]
  },
  {
   "cell_type": "markdown",
   "metadata": {},
   "source": [
    "##  Add identifiers to know from which csv file the data comes from"
   ]
  },
  {
   "cell_type": "code",
   "execution_count": null,
   "metadata": {},
   "outputs": [],
   "source": [
    "all_smol_dfs = []\n",
    "\n",
    "\n",
    "def process_file(f: Path):\n",
    "    smol_df = pd.read_csv(f)\n",
    "    smol_df[\"file\"] = f.stem\n",
    "    return smol_df\n",
    "\n",
    "\n",
    "with ThreadPoolExecutor() as executor:\n",
    "    results = list(tqdm(executor.map(process_file, all_csv_files), total=len(all_csv_files)))\n",
    "\n",
    "all_smol_dfs.extend(results)"
   ]
  },
  {
   "cell_type": "markdown",
   "metadata": {},
   "source": [
    "## Concat data"
   ]
  },
  {
   "cell_type": "code",
   "execution_count": null,
   "metadata": {},
   "outputs": [],
   "source": [
    "df = pd.concat(all_smol_dfs, ignore_index=True)\n",
    "df"
   ]
  },
  {
   "cell_type": "markdown",
   "metadata": {},
   "source": [
    "## Add the video ID & time to all rows\n",
    "\n",
    "(it's only in the \"Image\" csv for now)"
   ]
  },
  {
   "cell_type": "markdown",
   "metadata": {},
   "source": [
    "### Add the video ID"
   ]
  },
  {
   "cell_type": "code",
   "execution_count": null,
   "metadata": {},
   "outputs": [],
   "source": [
    "df[\"Metadata_VideoID\"].value_counts(dropna=False)"
   ]
  },
  {
   "cell_type": "code",
   "execution_count": null,
   "metadata": {},
   "outputs": [],
   "source": [
    "mask = df[\"Metadata_VideoID\"].isna()\n",
    "df.loc[mask, \"Metadata_VideoID\"] = df[\"FileName_images\"].str.split(\"_time_\").str[0]"
   ]
  },
  {
   "cell_type": "code",
   "execution_count": null,
   "metadata": {},
   "outputs": [],
   "source": [
    "df[\"Metadata_VideoID\"].value_counts(dropna=False)"
   ]
  },
  {
   "cell_type": "markdown",
   "metadata": {},
   "source": [
    "### Add the time"
   ]
  },
  {
   "cell_type": "code",
   "execution_count": null,
   "metadata": {},
   "outputs": [],
   "source": [
    "df[\"Metadata_time\"].value_counts(dropna=False)"
   ]
  },
  {
   "cell_type": "code",
   "execution_count": null,
   "metadata": {},
   "outputs": [],
   "source": [
    "mask = df[\"Metadata_time\"].isna()\n",
    "df.loc[mask, \"Metadata_time\"] = (\n",
    "    df[\"FileName_images\"].str.extract(r\"_time_(.*?)\\.\")[0].astype(df[\"Metadata_time\"].dtype)\n",
    ")"
   ]
  },
  {
   "cell_type": "code",
   "execution_count": null,
   "metadata": {},
   "outputs": [],
   "source": [
    "df[\"Metadata_time\"].value_counts(dropna=False)"
   ]
  },
  {
   "cell_type": "markdown",
   "metadata": {},
   "source": [
    "# Basic analysis & statistics"
   ]
  },
  {
   "cell_type": "code",
   "execution_count": null,
   "metadata": {},
   "outputs": [],
   "source": [
    "list(df.columns)"
   ]
  },
  {
   "cell_type": "code",
   "execution_count": null,
   "metadata": {},
   "outputs": [],
   "source": [
    "# 119 full videos and one with 7 filtered frames\n",
    "assert (nb_imgs := len(df[\"ImageNumber\"].unique())) == (theory := 19 * 119 + 12), (\n",
    "    f\"{nb_imgs} != {theory}\"\n",
    ")"
   ]
  },
  {
   "cell_type": "code",
   "execution_count": null,
   "metadata": {},
   "outputs": [],
   "source": [
    "df[\"file\"].value_counts(dropna=False)"
   ]
  },
  {
   "cell_type": "markdown",
   "metadata": {},
   "source": [
    "## Lifetime of objects"
   ]
  },
  {
   "cell_type": "code",
   "execution_count": null,
   "metadata": {},
   "outputs": [],
   "source": [
    "df[\"TrackObjects_Lifetime_10\"].value_counts(dropna=False).sort_index()"
   ]
  },
  {
   "cell_type": "code",
   "execution_count": null,
   "metadata": {},
   "outputs": [],
   "source": [
    "df[\"TrackObjects_FinalAge_10\"].value_counts(dropna=False).sort_index()"
   ]
  },
  {
   "cell_type": "markdown",
   "metadata": {},
   "source": [
    "# Select objects with full lifetime \n",
    "\n",
    "(ie final age 19)"
   ]
  },
  {
   "cell_type": "markdown",
   "metadata": {},
   "source": [
    "## First assign a global object ID"
   ]
  },
  {
   "cell_type": "markdown",
   "metadata": {},
   "source": [
    "### ObjectNumber analysis \n",
    "\n",
    "(not an actual object identifier) as not coherent through time)"
   ]
  },
  {
   "cell_type": "code",
   "execution_count": null,
   "metadata": {},
   "outputs": [],
   "source": [
    "assert not df[\"Metadata_VideoID\"].isna().any()\n",
    "print(df[\"ObjectNumber\"].isna().sum())  # these are image files, it's ok\n",
    "df[df[\"ObjectNumber\"].isna()][\"file\"]"
   ]
  },
  {
   "cell_type": "code",
   "execution_count": null,
   "metadata": {},
   "outputs": [],
   "source": [
    "df[\"local_object_id\"] = df[\"Metadata_VideoID\"].astype(str) + \"-\" + df[\"ObjectNumber\"].astype(str)\n",
    "assert not df[\"local_object_id\"].isna().any()\n",
    "df[\"local_object_id\"].value_counts(dropna=False)"
   ]
  },
  {
   "cell_type": "code",
   "execution_count": null,
   "metadata": {},
   "outputs": [],
   "source": [
    "plt.figure(figsize=(10, 10))\n",
    "x, y = np.unique(df[\"local_object_id\"].value_counts(dropna=False).values, return_counts=True)\n",
    "sorted_indices = np.argsort(y)\n",
    "y = y[sorted_indices]\n",
    "x = x[sorted_indices]\n",
    "plt.yticks(ticks=np.arange(len(x)), labels=x)\n",
    "for i in range(3, len(x) + 3, 3):\n",
    "    actual_y = np.where(x == i)[0][0]\n",
    "    plt.axhspan(actual_y - 1 / 2 + 5e-2, actual_y + 1 / 2 - 5e-2, color=\"blue\", alpha=0.3)\n",
    "bars = plt.barh(np.arange(len(x)), y)\n",
    "for bar in bars:\n",
    "    plt.text(\n",
    "        bar.get_width(),\n",
    "        bar.get_y() + bar.get_height() / 2 - 0.1,\n",
    "        bar.get_width(),\n",
    "        va=\"center\",\n",
    "    )\n",
    "plt.xlabel(\"Number of objects\")\n",
    "plt.ylabel(\"Number of rows in the dataset\")\n",
    "plt.tight_layout()\n",
    "# plt.xscale(\"log\")\n",
    "plt.show()"
   ]
  },
  {
   "cell_type": "markdown",
   "metadata": {},
   "source": [
    "### TrackObjects_Label_10 analysis"
   ]
  },
  {
   "cell_type": "code",
   "execution_count": null,
   "metadata": {},
   "outputs": [],
   "source": [
    "maks_trackobject_label_exists = df[\"TrackObjects_Label_10\"].notna()\n",
    "df.loc[maks_trackobject_label_exists, \"global_object_id\"] = (\n",
    "    df[\"Metadata_VideoID\"].astype(str) + \"-\" + df[\"TrackObjects_Label_10\"].astype(str)\n",
    ")\n",
    "df[\"global_object_id\"].value_counts(dropna=False)"
   ]
  },
  {
   "cell_type": "code",
   "execution_count": null,
   "metadata": {},
   "outputs": [],
   "source": [
    "plt.figure(figsize=(10, 10))\n",
    "x, y = np.unique(df[\"global_object_id\"].value_counts(dropna=False).values, return_counts=True)\n",
    "sorted_indices = np.argsort(y)\n",
    "y = y[sorted_indices]\n",
    "x = x[sorted_indices]\n",
    "plt.yticks(ticks=np.arange(len(x)), labels=x)\n",
    "bars = plt.barh(np.arange(len(x)), y)\n",
    "for bar in bars:\n",
    "    plt.text(\n",
    "        bar.get_width(),\n",
    "        bar.get_y() + bar.get_height() / 2 - 0.1,\n",
    "        bar.get_width(),\n",
    "        va=\"center\",\n",
    "    )\n",
    "plt.xlabel(\"Number of objects\")\n",
    "plt.ylabel(\"Number of rows in the dataset\")\n",
    "plt.tight_layout()\n",
    "# plt.xscale(\"log\")\n",
    "plt.show()"
   ]
  },
  {
   "cell_type": "markdown",
   "metadata": {},
   "source": [
    "`TrackObjects_Label_10` is the correct object ID"
   ]
  },
  {
   "cell_type": "code",
   "execution_count": null,
   "metadata": {},
   "outputs": [],
   "source": [
    "df_by_object_id_final_ages = df.groupby(\"global_object_id\")[\"TrackObjects_FinalAge_10\"].unique()\n",
    "df_by_object_id_final_ages"
   ]
  },
  {
   "cell_type": "code",
   "execution_count": null,
   "metadata": {},
   "outputs": [],
   "source": [
    "df_by_object_id_parent_track_object = df.groupby(\"global_object_id\")[\n",
    "    \"TrackObjects_ParentObjectNumber_10\"\n",
    "].unique()\n",
    "df_by_object_id_parent_track_object"
   ]
  },
  {
   "cell_type": "markdown",
   "metadata": {},
   "source": [
    "## Then filter on objects with full lifetime\n",
    "\n",
    "Note that objects with full lifetime might still split / merge somehow, see CellProfiler TrackObject doc."
   ]
  },
  {
   "cell_type": "code",
   "execution_count": null,
   "metadata": {},
   "outputs": [],
   "source": [
    "mask_objects_with_full_lifetime = df[\"TrackObjects_FinalAge_10\"] == 19\n",
    "objects_with_full_lifetime_ids = df.loc[\n",
    "    mask_objects_with_full_lifetime, \"global_object_id\"\n",
    "].unique()\n",
    "print(len(objects_with_full_lifetime_ids))\n",
    "objects_with_full_lifetime_ids  # these are all objects IDs with full lifetime (19)"
   ]
  },
  {
   "cell_type": "code",
   "execution_count": null,
   "metadata": {},
   "outputs": [],
   "source": [
    "df_full_lifetimes = df[df[\"global_object_id\"].isin(objects_with_full_lifetime_ids)]\n",
    "df_full_lifetimes"
   ]
  },
  {
   "cell_type": "code",
   "execution_count": null,
   "metadata": {},
   "outputs": [],
   "source": [
    "df_full_lifetimes[\"TrackObjects_FinalAge_10\"].value_counts(dropna=False)"
   ]
  },
  {
   "cell_type": "markdown",
   "metadata": {},
   "source": [
    "check consistency of filtered dataframe:"
   ]
  },
  {
   "cell_type": "code",
   "execution_count": null,
   "metadata": {},
   "outputs": [],
   "source": [
    "df_full_lifetimes[[\"file\", \"TrackObjects_FinalAge_10\"]].value_counts(dropna=False)"
   ]
  },
  {
   "cell_type": "markdown",
   "metadata": {},
   "source": [
    "We only have the whole_cell files in there, as there are the ones we tracked!"
   ]
  },
  {
   "cell_type": "markdown",
   "metadata": {},
   "source": [
    "# Plot a feature of a cell"
   ]
  },
  {
   "cell_type": "markdown",
   "metadata": {},
   "source": [
    "## Select video"
   ]
  },
  {
   "cell_type": "code",
   "execution_count": null,
   "metadata": {},
   "outputs": [],
   "source": [
    "video_id = \"M_13_fld_2\""
   ]
  },
  {
   "cell_type": "code",
   "execution_count": null,
   "metadata": {},
   "outputs": [],
   "source": [
    "df_this_vid = df_full_lifetimes.query(f\"Metadata_VideoID == '{video_id}'\")\n",
    "df_this_vid"
   ]
  },
  {
   "cell_type": "markdown",
   "metadata": {},
   "source": [
    "## Select object"
   ]
  },
  {
   "cell_type": "code",
   "execution_count": null,
   "metadata": {},
   "outputs": [],
   "source": [
    "object_number = \"274.0\""
   ]
  },
  {
   "cell_type": "code",
   "execution_count": null,
   "metadata": {},
   "outputs": [],
   "source": [
    "df_this_vid_this_object = df_this_vid.query(f\"TrackObjects_Label_10 == {object_number}\")\n",
    "df_this_vid_this_object"
   ]
  },
  {
   "cell_type": "markdown",
   "metadata": {},
   "source": [
    "See where is the object in the video"
   ]
  },
  {
   "cell_type": "code",
   "execution_count": null,
   "metadata": {},
   "outputs": [],
   "source": [
    "df_this_vid_this_object[\n",
    "    [\"global_object_id\", \"Metadata_time\", \"AreaShape_Center_X\", \"AreaShape_Center_Y\"]\n",
    "]"
   ]
  },
  {
   "cell_type": "markdown",
   "metadata": {},
   "source": [
    "## Select feature"
   ]
  },
  {
   "cell_type": "code",
   "execution_count": null,
   "metadata": {},
   "outputs": [],
   "source": [
    "list(df_this_vid_this_object.columns)"
   ]
  },
  {
   "cell_type": "code",
   "execution_count": null,
   "metadata": {},
   "outputs": [],
   "source": [
    "feature = \"AreaShape_Area\""
   ]
  },
  {
   "cell_type": "code",
   "execution_count": null,
   "metadata": {},
   "outputs": [],
   "source": [
    "plt.figure(dpi=200, figsize=(10, 5))\n",
    "\n",
    "plt.plot(df_this_vid_this_object[feature].reset_index(drop=True))\n",
    "plt.xticks(\n",
    "    ticks=range(len(df_this_vid_this_object)),\n",
    "    labels=range(1, len(df_this_vid_this_object) + 1),\n",
    ")\n",
    "plt.title(f\"{feature} over time of whole cell {int(float(object_number))} in video {video_id}\")\n",
    "plt.ylabel(f\"{feature}\")\n",
    "plt.xlabel(\"Time\")\n",
    "plt.legend(loc=\"upper right\")\n",
    "plt.show()"
   ]
  },
  {
   "cell_type": "markdown",
   "metadata": {},
   "source": [
    "# Save timeseries of all features for all tracked objects"
   ]
  },
  {
   "cell_type": "code",
   "execution_count": null,
   "metadata": {},
   "outputs": [],
   "source": [
    "features_to_save = [feat for feat in df.columns if feat.startswith(\"AreaShape\")]\n",
    "print(f\"Saving {len(features_to_save)} features\")\n",
    "features_to_save"
   ]
  },
  {
   "cell_type": "code",
   "execution_count": null,
   "metadata": {},
   "outputs": [],
   "source": [
    "list_dfs_to_concat: \"list[pd.DataFrame]\" = []\n",
    "\n",
    "\n",
    "def process_object(object_id: str):\n",
    "    df_this_object = df_full_lifetimes.query(f\"global_object_id == '{object_id}'\")\n",
    "    features_this_object = []\n",
    "    skip_this_object = False\n",
    "    # run through all times\n",
    "    for time in range(1, 20):\n",
    "        df_this_time = df_this_object.query(f\"Metadata_time == {time}\")\n",
    "        if len(df_this_time) > 1:\n",
    "            skip_this_object = True\n",
    "            break\n",
    "        elif len(df_this_time) == 0:\n",
    "            raise RuntimeError(\n",
    "                f\"Object {object_id} does not exist at time {time}; should have been filtered beforehand\"\n",
    "            )\n",
    "        else:\n",
    "            features_this_object_this_time = df_this_time[features_to_save].copy()\n",
    "            features_this_object_this_time[\"global_object_id\"] = object_id\n",
    "            features_this_object_this_time[\"time\"] = time\n",
    "            features_this_object.append(features_this_object_this_time)\n",
    "    # add this object if it's \"simple\": one \"sub-object\" per time\n",
    "    if not skip_this_object:\n",
    "        features_this_object = pd.concat(features_this_object, ignore_index=True)\n",
    "        return features_this_object\n",
    "    else:\n",
    "        return None\n",
    "\n",
    "\n",
    "with ProcessPoolExecutor() as executor:\n",
    "    futures = {\n",
    "        executor.submit(process_object, object_id): object_id\n",
    "        for object_id in tqdm(\n",
    "            df_full_lifetimes[\"global_object_id\"].unique(), desc=\"Submitting tasks\"\n",
    "        )\n",
    "    }\n",
    "    for future in tqdm(as_completed(futures), total=len(futures), desc=\"Processing objects\"):\n",
    "        result = future.result()\n",
    "        if result is not None:\n",
    "            list_dfs_to_concat.append(result)\n",
    "\n",
    "\n",
    "features_through_time = pd.concat(list_dfs_to_concat, ignore_index=True)\n",
    "features_through_time"
   ]
  },
  {
   "cell_type": "markdown",
   "metadata": {},
   "source": [
    "## Counts \"simple\" objects that were kept "
   ]
  },
  {
   "cell_type": "code",
   "execution_count": null,
   "metadata": {},
   "outputs": [],
   "source": [
    "features_through_time[\"global_object_id\"].nunique(dropna=False)"
   ]
  },
  {
   "cell_type": "markdown",
   "metadata": {},
   "source": [
    "versus the total number of objects:"
   ]
  },
  {
   "cell_type": "code",
   "execution_count": null,
   "metadata": {},
   "outputs": [],
   "source": [
    "df_full_lifetimes[\"global_object_id\"].nunique(dropna=False)"
   ]
  },
  {
   "cell_type": "markdown",
   "metadata": {},
   "source": [
    "## Save"
   ]
  },
  {
   "cell_type": "code",
   "execution_count": null,
   "metadata": {},
   "outputs": [],
   "source": [
    "features_through_time.to_csv(\n",
    "    data_path / \"features_through_time_of_full_lifetime_simple_objects.csv\", index=False\n",
    ")"
   ]
  }
 ],
 "metadata": {
  "kernelspec": {
   "display_name": ".venv",
   "language": "python",
   "name": "python3"
  },
  "language_info": {
   "codemirror_mode": {
    "name": "ipython",
    "version": 3
   },
   "file_extension": ".py",
   "mimetype": "text/x-python",
   "name": "python",
   "nbconvert_exporter": "python",
   "pygments_lexer": "ipython3",
   "version": "3.8.10"
  }
 },
 "nbformat": 4,
 "nbformat_minor": 2
}
